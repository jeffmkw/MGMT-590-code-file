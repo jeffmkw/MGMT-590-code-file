{
 "cells": [
  {
   "cell_type": "markdown",
   "metadata": {
    "canopy_exercise": {
     "cell_type": "<None>"
    }
   },
   "source": [
    "## Assignment 1: Data Harvesting from Zillow.com (20 points)"
   ]
  },
  {
   "cell_type": "markdown",
   "metadata": {
    "canopy_exercise": {
     "cell_type": "question"
    }
   },
   "source": [
    "### Your task is to collect the current property listings for West Lafayette from zillow.com. In particular, collect the listings from the first three pages and then collect details about everyhouse. We want the number of bedrooms, bathrooms, sqaure footage, zestimate, and rent zestimate."
   ]
  },
  {
   "cell_type": "markdown",
   "metadata": {
    "canopy_exercise": {
     "cell_type": "question"
    }
   },
   "source": [
    "Include the name of anyone you worked with (you are allowed to partner with another peer):"
   ]
  },
  {
   "cell_type": "code",
   "execution_count": 24,
   "metadata": {
    "collapsed": true
   },
   "outputs": [],
   "source": [
    "#group:\n",
    "#My name: Kewa Mei\n",
    "#My peer: Jianing Hu"
   ]
  },
  {
   "cell_type": "markdown",
   "metadata": {},
   "source": [
    "#### Here are the libraries needed."
   ]
  },
  {
   "cell_type": "code",
   "execution_count": 4,
   "metadata": {
    "collapsed": false
   },
   "outputs": [],
   "source": [
    "import urllib2\n",
    "import time\n",
    "from bs4 import BeautifulSoup\n",
    "from random import randint"
   ]
  },
  {
   "cell_type": "markdown",
   "metadata": {},
   "source": [
    "#### Declare the lists that will hold all the data we need:"
   ]
  },
  {
   "cell_type": "code",
   "execution_count": 26,
   "metadata": {
    "collapsed": false
   },
   "outputs": [],
   "source": [
    "addresses = []\n",
    "beds = []\n",
    "baths = []\n",
    "sqrft = []\n",
    "zest = []\n",
    "zrent = []"
   ]
  },
  {
   "cell_type": "markdown",
   "metadata": {
    "canopy_exercise": {
     "cell_type": "hint"
    }
   },
   "source": [
    "#### Create code that will go through the first 3 pages of Zillow.com listings for West Lafayette.  For each page, obtain all the listings on that page.  Then, store those urls in a list called urls.  Now, go through each url in the list (which will take you to the page of the specific address in question) and allow you to obtain the information that we need.  If the data is not available, then type in \"Not Available.\""
   ]
  },
  {
   "cell_type": "code",
   "execution_count": 57,
   "metadata": {
    "collapsed": false
   },
   "outputs": [
    {
     "name": "stdout",
     "output_type": "stream",
     "text": [
      "\n",
      "['3611 Cavendish Ct', '2208 Ringneck Rd', '6117 Buchanan Dr', '621 Elijah St', '221 Connolly St', '11082 E 675 N', '813 N Chauncey Ave', '3279 Secretariat ', '3515 Hamilton St', '5702 Prophets Rock Rd', '3339 Webster St', '4524 Soldiers Home Rd', '1510 N Salisbury St', '606 Lindberg Rd', '3421 N 650 W', '2332 Centennial Ct W', '178 Pathway Ln', '221 Floyd Ct', '1063 Marwyck St', '3219 Humboldt St', '4884 Little Pine Dr', '302 N 350 W', '4331 N River Rd', '111 N 500 W', '820 Vine St']\n",
      "http://www.zillow.com/homes/3611-Cavendish-Ct,WestLafayette,-IN_rb/\n",
      "http://www.zillow.com/homes/2208-Ringneck-Rd,WestLafayette,-IN_rb/\n",
      "http://www.zillow.com/homes/6117-Buchanan-Dr,WestLafayette,-IN_rb/\n",
      "http://www.zillow.com/homes/621-Elijah-St,WestLafayette,-IN_rb/\n",
      "http://www.zillow.com/homes/221-Connolly-St,WestLafayette,-IN_rb/\n",
      "http://www.zillow.com/homes/11082-E-675-N,WestLafayette,-IN_rb/\n",
      "http://www.zillow.com/homes/813-N-Chauncey-Ave,WestLafayette,-IN_rb/\n",
      "http://www.zillow.com/homes/3279-Secretariat-,WestLafayette,-IN_rb/\n",
      "http://www.zillow.com/homes/3515-Hamilton-St,WestLafayette,-IN_rb/\n",
      "http://www.zillow.com/homes/5702-Prophets-Rock-Rd,WestLafayette,-IN_rb/\n",
      "http://www.zillow.com/homes/3339-Webster-St,WestLafayette,-IN_rb/\n",
      "http://www.zillow.com/homes/4524-Soldiers-Home-Rd,WestLafayette,-IN_rb/\n",
      "http://www.zillow.com/homes/1510-N-Salisbury-St,WestLafayette,-IN_rb/\n",
      "http://www.zillow.com/homes/606-Lindberg-Rd,WestLafayette,-IN_rb/\n",
      "http://www.zillow.com/homes/3421-N-650-W,WestLafayette,-IN_rb/\n",
      "http://www.zillow.com/homes/2332-Centennial-Ct-W,WestLafayette,-IN_rb/\n",
      "http://www.zillow.com/homes/178-Pathway-Ln,WestLafayette,-IN_rb/\n",
      "http://www.zillow.com/homes/221-Floyd-Ct,WestLafayette,-IN_rb/\n",
      "http://www.zillow.com/homes/1063-Marwyck-St,WestLafayette,-IN_rb/\n",
      "http://www.zillow.com/homes/3219-Humboldt-St,WestLafayette,-IN_rb/\n",
      "http://www.zillow.com/homes/4884-Little-Pine-Dr,WestLafayette,-IN_rb/\n",
      "http://www.zillow.com/homes/302-N-350-W,WestLafayette,-IN_rb/\n",
      "http://www.zillow.com/homes/4331-N-River-Rd,WestLafayette,-IN_rb/\n",
      "http://www.zillow.com/homes/111-N-500-W,WestLafayette,-IN_rb/\n",
      "http://www.zillow.com/homes/820-Vine-St,WestLafayette,-IN_rb/\n",
      "\n",
      "['3611 Cavendish Ct', '2208 Ringneck Rd', '6117 Buchanan Dr', '621 Elijah St', '221 Connolly St', '11082 E 675 N', '813 N Chauncey Ave', '3279 Secretariat ', '3515 Hamilton St', '5702 Prophets Rock Rd', '3339 Webster St', '4524 Soldiers Home Rd', '1510 N Salisbury St', '606 Lindberg Rd', '3421 N 650 W', '2332 Centennial Ct W', '178 Pathway Ln', '221 Floyd Ct', '1063 Marwyck St', '3219 Humboldt St', '4884 Little Pine Dr', '302 N 350 W', '4331 N River Rd', '111 N 500 W', '820 Vine St', '142 Appomattox Ct', '529 Woods Edge Ct', '4344 S River Rd', '243 Leatherwood Way', '2158 Old Oak Dr', '6432 Sr 26 W', '2600 Covington St', '1602 Mason Dixon Dr S', '2773 Morallion Dr', '110 Linda Ln', '4124 W 150 N', '236 Schilling St', '1600 Northwestern Ave', '715 Nathan Ct', '5865 Augusta Blvd', '20 Carrington Ct', '1801 N Salisbury St', '237 Schilling St', '1050 N 575 W', '1849 Sandpiper Dr', 'Cumberland Ave', '4921 Hawthorne Ridge Dr', '607 Northridge Dr', '1200 Northwestern Ave']\n",
      "http://www.zillow.com/homes/142-Appomattox-Ct,WestLafayette,-IN_rb/\n",
      "http://www.zillow.com/homes/529-Woods-Edge-Ct,WestLafayette,-IN_rb/\n",
      "http://www.zillow.com/homes/4344-S-River-Rd,WestLafayette,-IN_rb/\n",
      "http://www.zillow.com/homes/243-Leatherwood-Way,WestLafayette,-IN_rb/\n",
      "http://www.zillow.com/homes/2158-Old-Oak-Dr,WestLafayette,-IN_rb/\n",
      "http://www.zillow.com/homes/6432-Sr-26-W,WestLafayette,-IN_rb/\n",
      "http://www.zillow.com/homes/2600-Covington-St,WestLafayette,-IN_rb/\n",
      "http://www.zillow.com/homes/1602-Mason-Dixon-Dr-S,WestLafayette,-IN_rb/\n",
      "http://www.zillow.com/homes/2773-Morallion-Dr,WestLafayette,-IN_rb/\n",
      "http://www.zillow.com/homes/110-Linda-Ln,WestLafayette,-IN_rb/\n",
      "http://www.zillow.com/homes/4124-W-150-N,WestLafayette,-IN_rb/\n",
      "http://www.zillow.com/homes/236-Schilling-St,WestLafayette,-IN_rb/\n",
      "http://www.zillow.com/homes/1600-Northwestern-Ave,WestLafayette,-IN_rb/\n",
      "http://www.zillow.com/homes/715-Nathan-Ct,WestLafayette,-IN_rb/\n",
      "http://www.zillow.com/homes/5865-Augusta-Blvd,WestLafayette,-IN_rb/\n",
      "http://www.zillow.com/homes/20-Carrington-Ct,WestLafayette,-IN_rb/\n",
      "http://www.zillow.com/homes/1801-N-Salisbury-St,WestLafayette,-IN_rb/\n",
      "http://www.zillow.com/homes/237-Schilling-St,WestLafayette,-IN_rb/\n",
      "http://www.zillow.com/homes/1050-N-575-W,WestLafayette,-IN_rb/\n",
      "http://www.zillow.com/homes/1849-Sandpiper-Dr,WestLafayette,-IN_rb/\n",
      "http://www.zillow.com/homes/Cumberland-Ave,WestLafayette,-IN_rb/\n",
      "http://www.zillow.com/homes/4921-Hawthorne-Ridge-Dr,WestLafayette,-IN_rb/\n",
      "http://www.zillow.com/homes/607-Northridge-Dr,WestLafayette,-IN_rb/\n",
      "http://www.zillow.com/homes/1200-Northwestern-Ave,WestLafayette,-IN_rb/\n",
      "\n",
      "['3611 Cavendish Ct', '2208 Ringneck Rd', '6117 Buchanan Dr', '621 Elijah St', '221 Connolly St', '11082 E 675 N', '813 N Chauncey Ave', '3279 Secretariat ', '3515 Hamilton St', '5702 Prophets Rock Rd', '3339 Webster St', '4524 Soldiers Home Rd', '1510 N Salisbury St', '606 Lindberg Rd', '3421 N 650 W', '2332 Centennial Ct W', '178 Pathway Ln', '221 Floyd Ct', '1063 Marwyck St', '3219 Humboldt St', '4884 Little Pine Dr', '302 N 350 W', '4331 N River Rd', '111 N 500 W', '820 Vine St', '142 Appomattox Ct', '529 Woods Edge Ct', '4344 S River Rd', '243 Leatherwood Way', '2158 Old Oak Dr', '6432 Sr 26 W', '2600 Covington St', '1602 Mason Dixon Dr S', '2773 Morallion Dr', '110 Linda Ln', '4124 W 150 N', '236 Schilling St', '1600 Northwestern Ave', '715 Nathan Ct', '5865 Augusta Blvd', '20 Carrington Ct', '1801 N Salisbury St', '237 Schilling St', '1050 N 575 W', '1849 Sandpiper Dr', 'Cumberland Ave', '4921 Hawthorne Ridge Dr', '607 Northridge Dr', '1200 Northwestern Ave', '1719 Melrose Ct', '3380 Alysheba Dr', '1413 Shining Armor Ln', '6603 Pin Oaks Dr', '9163 St. Rt. 26 W', '819 Vine St', '128 Magnolia Ct', '2216 Cousteau Dr', '1701 Sheridan Rd', '116 Reba Dr', '5315 Shootingstar Ln', '2104 Wake Robin Dr', '12325 S 1100 W', '372 Pawnee Dr', '4538 Penelope Ct', '14 S 875 W', '707 Crestview Pl', '20 Brook Hollow St', '25 W 600 N', '1300 N 325 W', '311 Sheffield Rd', '4209 S Monolith Ct', '1831 Sandpiper Dr', '4133 N 800 W', '4314 Antiquity Ct']\n",
      "http://www.zillow.com/homes/1719-Melrose-Ct,WestLafayette,-IN_rb/\n",
      "http://www.zillow.com/homes/3380-Alysheba-Dr,WestLafayette,-IN_rb/\n",
      "http://www.zillow.com/homes/1413-Shining-Armor-Ln,WestLafayette,-IN_rb/\n",
      "http://www.zillow.com/homes/6603-Pin-Oaks-Dr,WestLafayette,-IN_rb/\n",
      "http://www.zillow.com/homes/9163-St.-Rt.-26-W,WestLafayette,-IN_rb/\n",
      "http://www.zillow.com/homes/819-Vine-St,WestLafayette,-IN_rb/\n",
      "http://www.zillow.com/homes/128-Magnolia-Ct,WestLafayette,-IN_rb/\n",
      "http://www.zillow.com/homes/2216-Cousteau-Dr,WestLafayette,-IN_rb/\n",
      "http://www.zillow.com/homes/1701-Sheridan-Rd,WestLafayette,-IN_rb/\n",
      "http://www.zillow.com/homes/116-Reba-Dr,WestLafayette,-IN_rb/\n",
      "http://www.zillow.com/homes/5315-Shootingstar-Ln,WestLafayette,-IN_rb/\n",
      "http://www.zillow.com/homes/2104-Wake-Robin-Dr,WestLafayette,-IN_rb/\n",
      "http://www.zillow.com/homes/12325-S-1100-W,WestLafayette,-IN_rb/\n",
      "http://www.zillow.com/homes/372-Pawnee-Dr,WestLafayette,-IN_rb/\n",
      "http://www.zillow.com/homes/4538-Penelope-Ct,WestLafayette,-IN_rb/\n",
      "http://www.zillow.com/homes/14-S-875-W,WestLafayette,-IN_rb/\n",
      "http://www.zillow.com/homes/707-Crestview-Pl,WestLafayette,-IN_rb/\n",
      "http://www.zillow.com/homes/20-Brook-Hollow-St,WestLafayette,-IN_rb/\n",
      "http://www.zillow.com/homes/25-W-600-N,WestLafayette,-IN_rb/\n",
      "http://www.zillow.com/homes/1300-N-325-W,WestLafayette,-IN_rb/\n",
      "http://www.zillow.com/homes/311-Sheffield-Rd,WestLafayette,-IN_rb/\n",
      "http://www.zillow.com/homes/4209-S-Monolith-Ct,WestLafayette,-IN_rb/\n",
      "http://www.zillow.com/homes/1831-Sandpiper-Dr,WestLafayette,-IN_rb/\n",
      "http://www.zillow.com/homes/4133-N-800-W,WestLafayette,-IN_rb/\n",
      "http://www.zillow.com/homes/4314-Antiquity-Ct,WestLafayette,-IN_rb/\n"
     ]
    }
   ],
   "source": [
    "addresses = []\n",
    "beds = []\n",
    "baths = []\n",
    "sqrft = []\n",
    "zest = []\n",
    "zrent = []\n",
    "for page in range(1 , 4): # set the correct page range to traverse through first three pages of listings.\n",
    "\n",
    "    #this link gives you the new listings in relevance sort order.  You really don't need to change anything here.\n",
    "    source_code = urllib2.urlopen(\"http://www.zillow.com/homes/for_sale/West-Lafayette-IN/house_type/41643_rid/globalrelevanceex_sort/41.104708,-86.489182,40.184644,-87.427139_rect/9_zm/\"+str(page)+\"_p/\").read()\n",
    "    \n",
    "    soup_main_page = BeautifulSoup(source_code, 'lxml')\n",
    "    \n",
    "    #Get all the URLs and store in the list below\n",
    "    lists = soup_main_page.find_all('span', class_ = 'zsg-photo-card-address')\n",
    "    print \n",
    "    urls = []\n",
    "    for i in lists:\n",
    "        a=str(i.text)\n",
    "        a=a.split(',')[0].replace('Cir','')\n",
    "        if a == 'Sign in for details':\n",
    "            continue\n",
    "        else:\n",
    "            addresses.append(a)\n",
    "            url = 'http://www.zillow.com/homes/'+a.replace(' ','-')+',WestLafayette,-IN_rb/'\n",
    "            urls.append(url)\n",
    "        \n",
    "    print addresses\n",
    "    #find the result set that has the links to each individual listing\n",
    "    # think about using .find_all with the right tag and class attribute\n",
    "    # once this is done, you may use a for loop to populate the urls list\n",
    "\n",
    "    #given correct url endings in the urls list, you may start a new for loop to go to every house page and collect\n",
    "    #the information you need\n",
    "    \n",
    "    for url in urls:\n",
    "        \n",
    "        print url\n",
    "        source_code = urllib2.urlopen(url).read()\n",
    "        try:\n",
    "            soup = BeautifulSoup(source_code,'lxml')\n",
    "            #find the beds baths and squarefeet\n",
    "            rooms = soup('span', 'addr_bbs')\n",
    "            bed1 = str(rooms[0].text).split(' ')\n",
    "            bed = bed1[0]\n",
    "            beds.append(bed)\n",
    "\n",
    "            bath1 = str(rooms[1].text).split(' ')\n",
    "            bath = bath1[0]\n",
    "            baths.append(bath)\n",
    "\n",
    "            sqf1 = str(rooms[2].text).split(' ')\n",
    "            sqf = sqf1[0].replace(',','')\n",
    "            sqrft.append(sqf)\n",
    "\n",
    "            #find the zrent and zestimate:\n",
    "\n",
    "            value = soup('div', 'zest-value')\n",
    "            zest1 = str(value[0].text).replace(',','')\n",
    "            zest.append(zest1)\n",
    "            zrent1 = str(value[0].text).replace(',','')\n",
    "            zrent.append(zrent1)\n",
    "        except:\n",
    "            beds.append(\"NA\") \n",
    "            baths.append(\"NA\")\n",
    "            sqrft.append(\"NA\")\n",
    "            zrent.append(\"NA\")\n",
    "            \n",
    "        #this sleep important not to overload zillow site. we are sleeping after every request to a house page\n",
    "       \n",
    "        time.sleep(randint(1,2)) "
   ]
  },
  {
   "cell_type": "markdown",
   "metadata": {},
   "source": [
    "#### Then we write all of our output file to a csv file:"
   ]
  },
  {
   "cell_type": "code",
   "execution_count": 59,
   "metadata": {
    "collapsed": false
   },
   "outputs": [
    {
     "name": "stdout",
     "output_type": "stream",
     "text": [
      "3611 Cavendish Ct,3,2,1616,$142359\n",
      "2208 Ringneck Rd,4,3,2405,$269780\n",
      "6117 Buchanan Dr,4,3,2831,$283970\n",
      "621 Elijah St,3,3,2350,$161588\n",
      "221 Connolly St,4,3,2290,$184315\n",
      "11082 E 675 N,3,1,1628,$46380\n",
      "813 N Chauncey Ave,4,3,2700,$170967\n",
      "3279 Secretariat ,4,3,2515,$250286\n",
      "3515 Hamilton St,4,3,2698,$330735\n",
      "5702 Prophets Rock Rd,5,4,5020,$431691\n",
      "3339 Webster St,4,3,2772,$221525\n",
      "4524 Soldiers Home Rd,--,2,2349,$204282\n",
      "1510 N Salisbury St,1,1,968,$160384\n",
      "606 Lindberg Rd,3,1,1404,$125908\n",
      "3421 N 650 W,5,3,2464,$206701\n",
      "2332 Centennial Ct W,3,2,1414,$110667\n",
      "178 Pathway Ln,4,4,2837,$283636\n",
      "221 Floyd Ct,3,3,2768,$248638\n",
      "1063 Marwyck St,5,3,2872,$241948\n",
      "3219 Humboldt St,4,3,3548,$283986\n",
      "4884 Little Pine Dr,3,2,1987,$204296\n",
      "302 N 350 W,4,2,2546,$131014\n",
      "4331 N River Rd,12,7,4012,$345520\n",
      "111 N 500 W,4,6,13799,$896047\n",
      "820 Vine St,3,2,1350,$142655\n",
      "142 Appomattox Ct,4,2,1904,$126187\n",
      "529 Woods Edge Ct,3,2,1906,$183257\n",
      "4344 S River Rd,5,3,2344,$177969\n",
      "243 Leatherwood Way,3,3,3165,$196521\n",
      "2158 Old Oak Dr,4,3,3121,$185689\n",
      "6432 Sr 26 W,4,3,4116,Unavailable\n",
      "2600 Covington St,3,2,2130,$139174\n",
      "1602 Mason Dixon Dr S,--,1.5,960,$79369\n",
      "2773 Morallion Dr,3,2,1798,$164650\n",
      "110 Linda Ln,3,2,1381,$166320\n",
      "4124 W 150 N,3,2,3002,$194084\n",
      "236 Schilling St,4,2,1264,$91899\n",
      "1600 Northwestern Ave,3,2,2560,$190256\n",
      "715 Nathan Ct,4,3,2280,$149064\n",
      "5865 Augusta Blvd,5,5,4067,$418034\n",
      "20 Carrington Ct,5,4.5,7342,$634243\n",
      "1801 N Salisbury St,4,3.5,3700,$365768\n",
      "237 Schilling St,4,2,1266,$132027\n",
      "1050 N 575 W,4,6,4998,$480793\n",
      "1849 Sandpiper Dr,3,3,2192,$222375\n",
      "Cumberland Ave,NA,NA,NA,$144700\n",
      "4921 Hawthorne Ridge Dr,3,2,1373,$228509\n",
      "607 Northridge Dr,3,3,2284,$371052\n",
      "1200 Northwestern Ave,4,4,4302,$296875\n",
      "1719 Melrose Ct,4,3,2413,$194483\n",
      "3380 Alysheba Dr,3,2,1727,$113592\n",
      "1413 Shining Armor Ln,3,2,1248,$214964\n",
      "6603 Pin Oaks Dr,5,3,2716,$340597\n",
      "9163 St. Rt. 26 W,2,2,3400,$212024\n",
      "819 Vine St,6,4,3092,$152364\n",
      "128 Magnolia Ct,4,2,1862,$193186\n",
      "2216 Cousteau Dr,4,2.5,2656,$420620\n",
      "1701 Sheridan Rd,5,4.5,5430,$164305\n",
      "116 Reba Dr,3,2,1381,$538481\n",
      "5315 Shootingstar Ln,5,5,5070,$140169\n",
      "2104 Wake Robin Dr,3,2,1508,$86388\n",
      "12325 S 1100 W,3,1,1672,$414045\n",
      "372 Pawnee Dr,4,3,4394,$712527\n",
      "4538 Penelope Ct,4,7,6174,$303047\n",
      "14 S 875 W,4,4,2771,$314710\n",
      "707 Crestview Pl,3,3,2184,$391945\n",
      "20 Brook Hollow St,4,4,5141,$360531\n",
      "25 W 600 N,4,3,2454,$199088\n",
      "1300 N 325 W,4,3,2665,$210154\n",
      "311 Sheffield Rd,2,2.5,2209,$139017\n",
      "4209 S Monolith Ct,2,1.5,1690,$189457\n",
      "1831 Sandpiper Dr,3,3,2034,$138866\n",
      "4133 N 800 W,2,1,1084,$330718\n"
     ]
    }
   ],
   "source": [
    "output_file = open('/Users/Jeffery/Google Drive/Homework/web data 590/As1/Zillow_Assignment1_Output.csv' , 'w')\n",
    "\n",
    "output_file.write(\"Address,Beds,Baths,Squarefeet,Zestimate,Zrent\\n\")\n",
    "\n",
    "for i in range(0 , len(zest)):\n",
    "    \n",
    "    output_file.write( addresses[i] + \",\" + beds[i] +\",\" + baths[i] + \",\" + sqrft[i] + \",\" + zest[i] + \",\" + zrent[i] + \"\\n\" )\n",
    "    print  addresses[i] + \",\" + beds[i] +\",\" + baths[i] + \",\" + sqrft[i] +',' +zest[i]\n",
    "output_file.close()\n",
    "            "
   ]
  },
  {
   "cell_type": "code",
   "execution_count": 38,
   "metadata": {
    "collapsed": false
   },
   "outputs": [
    {
     "data": {
      "text/plain": [
       "['3611 Cavendish Ct',\n",
       " '2208 Ringneck Rd',\n",
       " '6117 Buchanan Dr',\n",
       " '621 Elijah St',\n",
       " '221 Connolly St',\n",
       " '11082 E 675 N',\n",
       " '813 N Chauncey Ave',\n",
       " '3279 Secretariat ',\n",
       " '3515 Hamilton St',\n",
       " '5702 Prophets Rock Rd',\n",
       " '3339 Webster St',\n",
       " '4524 Soldiers Home Rd',\n",
       " '1510 N Salisbury St',\n",
       " '606 Lindberg Rd',\n",
       " '3421 N 650 W',\n",
       " '2332 Centennial Ct W',\n",
       " '178 Pathway Ln',\n",
       " '221 Floyd Ct',\n",
       " '1063 Marwyck St',\n",
       " '3219 Humboldt St',\n",
       " '4884 Little Pine Dr',\n",
       " '302 N 350 W',\n",
       " '4331 N River Rd',\n",
       " '111 N 500 W',\n",
       " '820 Vine St',\n",
       " 'Sign in for details']"
      ]
     },
     "execution_count": 38,
     "metadata": {},
     "output_type": "execute_result"
    }
   ],
   "source": [
    "addresses"
   ]
  },
  {
   "cell_type": "code",
   "execution_count": 33,
   "metadata": {
    "collapsed": false
   },
   "outputs": [
    {
     "data": {
      "text/plain": [
       "['$142,359',\n",
       " '$269,780',\n",
       " '$283,970',\n",
       " '$161,588',\n",
       " '$184,315',\n",
       " '$46,380',\n",
       " '$170,967',\n",
       " '$250,286',\n",
       " '$330,735',\n",
       " '$431,691',\n",
       " '$221,525',\n",
       " '$204,282',\n",
       " '$160,384',\n",
       " '$125,908',\n",
       " '$206,701',\n",
       " '$110,667',\n",
       " '$283,636',\n",
       " '$248,638',\n",
       " '$241,948',\n",
       " '$283,986',\n",
       " '$204,296',\n",
       " '$131,014',\n",
       " '$345,520',\n",
       " '$896,047',\n",
       " '$131,529',\n",
       " '$142,359',\n",
       " '$269,780',\n",
       " '$283,970',\n",
       " '$161,588',\n",
       " '$184,315',\n",
       " '$46,380',\n",
       " '$170,967',\n",
       " '$250,286',\n",
       " '$330,735',\n",
       " '$431,691',\n",
       " '$221,525',\n",
       " '$204,282',\n",
       " '$160,384',\n",
       " '$125,908',\n",
       " '$206,701',\n",
       " '$110,667',\n",
       " '$283,636',\n",
       " '$248,638',\n",
       " '$241,948',\n",
       " '$283,986',\n",
       " '$204,296',\n",
       " '$131,014',\n",
       " '$345,520',\n",
       " '$896,047',\n",
       " '$131,529']"
      ]
     },
     "execution_count": 33,
     "metadata": {},
     "output_type": "execute_result"
    }
   ],
   "source": [
    "zrent"
   ]
  },
  {
   "cell_type": "code",
   "execution_count": null,
   "metadata": {
    "collapsed": true
   },
   "outputs": [],
   "source": []
  },
  {
   "cell_type": "code",
   "execution_count": null,
   "metadata": {
    "collapsed": true
   },
   "outputs": [],
   "source": []
  },
  {
   "cell_type": "code",
   "execution_count": null,
   "metadata": {
    "collapsed": true
   },
   "outputs": [],
   "source": []
  }
 ],
 "metadata": {
  "kernelspec": {
   "display_name": "Python 2",
   "language": "python",
   "name": "python2"
  },
  "language_info": {
   "codemirror_mode": {
    "name": "ipython",
    "version": 2
   },
   "file_extension": ".py",
   "mimetype": "text/x-python",
   "name": "python",
   "nbconvert_exporter": "python",
   "pygments_lexer": "ipython2",
   "version": "2.7.11"
  }
 },
 "nbformat": 4,
 "nbformat_minor": 0
}
