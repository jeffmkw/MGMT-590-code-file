{
 "cells": [
  {
   "cell_type": "code",
   "execution_count": 34,
   "metadata": {
    "collapsed": false
   },
   "outputs": [
    {
     "data": {
      "text/plain": [
       "'Y Y N N Y Y N N N Y Y N Y'"
      ]
     },
     "execution_count": 34,
     "metadata": {},
     "output_type": "execute_result"
    }
   ],
   "source": [
    "#Homework: vote string\n",
    "votes = \"y y n N Y Y n n N y Y n Y\"\n",
    "votes = votes.upper()\n",
    "votes"
   ]
  },
  {
   "cell_type": "code",
   "execution_count": 35,
   "metadata": {
    "collapsed": true
   },
   "outputs": [],
   "source": [
    "yes_count = votes.count('Y')\n",
    "no_count = votes.count('N')\n",
    "total_count = yes_count + no_count"
   ]
  },
  {
   "cell_type": "code",
   "execution_count": 36,
   "metadata": {
    "collapsed": false
   },
   "outputs": [],
   "source": [
    "#print(yes_count, no_count, total_count)"
   ]
  },
  {
   "cell_type": "code",
   "execution_count": 37,
   "metadata": {
    "collapsed": false
   },
   "outputs": [
    {
     "name": "stdout",
     "output_type": "stream",
     "text": [
      "yes = 53.85% no = 46.15%\n"
     ]
    }
   ],
   "source": [
    "yes = float(yes_count)/total_count\n",
    "no = float(no_count)/total_count\n",
    "print 'yes = ' \"{:.2%}\".format(yes), 'no = '\"{:.2%}\".format(no)\n",
    "#end of Homework: vote string"
   ]
  },
  {
   "cell_type": "code",
   "execution_count": 38,
   "metadata": {
    "collapsed": false
   },
   "outputs": [],
   "source": [
    "#start of homework: roman dictionary\n",
    "friends = {'julius': '100 via apian', 'cleopatra': '000 pyramid parkway'}\n",
    "romans = dict(brutus='234 via tratorium', cassius='111 aqueduct lane')\n",
    "countrymen = dict([('plebius','786 via bunius'), ('plebia', '786 via bunius')])"
   ]
  },
  {
   "cell_type": "code",
   "execution_count": 39,
   "metadata": {
    "collapsed": false,
    "scrolled": true
   },
   "outputs": [
    {
     "name": "stdout",
     "output_type": "stream",
     "text": [
      "friend names: ['julius', 'cleopatra']\n",
      "friend addresses: ['100 via apian', '000 pyramid parkway']\n",
      "firend (name, address) pairs: [('julius', '100 via apian'), ('cleopatra', '000 pyramid parkway')]\n"
     ]
    }
   ],
   "source": [
    "#Q1-Q3\n",
    "print 'friend names:', friends.keys()\n",
    "print 'friend addresses:', friends.values()\n",
    "print 'firend (name, address) pairs:', friends.items()"
   ]
  },
  {
   "cell_type": "code",
   "execution_count": 40,
   "metadata": {
    "collapsed": false
   },
   "outputs": [
    {
     "data": {
      "text/plain": [
       "'100 via apian'"
      ]
     },
     "execution_count": 40,
     "metadata": {},
     "output_type": "execute_result"
    }
   ],
   "source": [
    "#Q4\n",
    "friends.pop('julius')"
   ]
  },
  {
   "cell_type": "code",
   "execution_count": 41,
   "metadata": {
    "collapsed": false
   },
   "outputs": [
    {
     "name": "stdout",
     "output_type": "stream",
     "text": [
      "party mailing list:\n",
      "plebia :\t786 via bunius\n",
      "cleopatra :\t000 pyramid parkway\n",
      "cassius :\t111 aqueduct lane\n",
      "brutus :\t234 via tratorium\n",
      "plebius :\t786 via bunius\n"
     ]
    }
   ],
   "source": [
    "#Q5\n",
    "everyone = {}\n",
    "everyone.update(friends)\n",
    "everyone.update(romans)\n",
    "everyone.update(countrymen)\n",
    "print('party mailing list:')\n",
    "for name, address in everyone.items():\n",
    "    print name, ':\\t', address"
   ]
  },
  {
   "cell_type": "code",
   "execution_count": 42,
   "metadata": {
    "collapsed": false
   },
   "outputs": [
    {
     "name": "stdout",
     "output_type": "stream",
     "text": [
      "Cleopatra's address: 000 pyramid parkway\n"
     ]
    }
   ],
   "source": [
    "#Q6\n",
    "print 'Cleopatra\\'s address:', everyone['cleopatra']"
   ]
  },
  {
   "cell_type": "code",
   "execution_count": 43,
   "metadata": {
    "collapsed": false
   },
   "outputs": [
    {
     "name": "stdout",
     "output_type": "stream",
     "text": [
      "{}\n"
     ]
    }
   ],
   "source": [
    "#Q7\n",
    "everyone.clear()\n",
    "print everyone\n",
    "#end of roman dictionary"
   ]
  }
 ],
 "metadata": {
  "kernelspec": {
   "display_name": "Python 2",
   "language": "python",
   "name": "python2"
  },
  "language_info": {
   "codemirror_mode": {
    "name": "ipython",
    "version": 2
   },
   "file_extension": ".py",
   "mimetype": "text/x-python",
   "name": "python",
   "nbconvert_exporter": "python",
   "pygments_lexer": "ipython2",
   "version": "2.7.11"
  }
 },
 "nbformat": 4,
 "nbformat_minor": 0
}
